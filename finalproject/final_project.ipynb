{
 "cells": [
  {
   "cell_type": "markdown",
   "metadata": {},
   "source": [
    "# FINAL PROJECT"
   ]
  },
  {
   "cell_type": "markdown",
   "metadata": {},
   "source": [
    "***DETERMINING THE MOST AFFECTED COUNTRIES BY COVID19***"
   ]
  },
  {
   "cell_type": "markdown",
   "metadata": {},
   "source": [
    "***PROJECT GOAL***\n",
    "\n",
    "The main aim of the project is to determine the most affected countries by covid-19 during the year 2020 and showcasing the results by the help of data visualization"
   ]
  },
  {
   "cell_type": "markdown",
   "metadata": {},
   "source": [
    "***DATASET:***\n",
    "\n",
    "Dataset:\n",
    "\n",
    "https://www.kaggle.com/competitions/covid19-global-forecasting-week-3/overview\n",
    "\n",
    "https://raw.githubusercontent.com/Mbicha/data_science/main/data/trainweek3_2.csv'\n"
   ]
  },
  {
   "cell_type": "markdown",
   "metadata": {},
   "source": [
    "***Importing the required libraries***"
   ]
  },
  {
   "cell_type": "code",
   "execution_count": 1,
   "metadata": {},
   "outputs": [],
   "source": [
    "import pandas as pd\n",
    "\n",
    "import matplotlib.pyplot as plt\n",
    "import seaborn as sns\n",
    "\n",
    "import calendar\n",
    "\n",
    "import warnings\n",
    "warnings.filterwarnings('ignore')"
   ]
  },
  {
   "cell_type": "markdown",
   "metadata": {},
   "source": [
    "***Loading and readaing data from various sources***"
   ]
  },
  {
   "cell_type": "code",
   "execution_count": 2,
   "metadata": {},
   "outputs": [],
   "source": [
    "def load_data():\n",
    "    \"\"\"\n",
    "    Reads data from various sources and convert to dataframe\n",
    "    return 3 dataframes\n",
    "    \"\"\"\n",
    "    covid_df1 = pd.read_csv('trainweek3.csv')\n",
    "    covid_df2 = pd.read_json('covid_data.json')\n",
    "    covid_df3 = pd.read_csv('https://raw.githubusercontent.com/Mbicha/data_science/main/data/trainweek3_2.csv')\n",
    "\n",
    "    return covid_df1, covid_df2, covid_df3"
   ]
  },
  {
   "cell_type": "markdown",
   "metadata": {},
   "source": [
    "***In this section, we are merging all the datasets to get the final one***"
   ]
  },
  {
   "cell_type": "code",
   "execution_count": 3,
   "metadata": {},
   "outputs": [
    {
     "data": {
      "text/html": [
       "<div>\n",
       "<style scoped>\n",
       "    .dataframe tbody tr th:only-of-type {\n",
       "        vertical-align: middle;\n",
       "    }\n",
       "\n",
       "    .dataframe tbody tr th {\n",
       "        vertical-align: top;\n",
       "    }\n",
       "\n",
       "    .dataframe thead th {\n",
       "        text-align: right;\n",
       "    }\n",
       "</style>\n",
       "<table border=\"1\" class=\"dataframe\">\n",
       "  <thead>\n",
       "    <tr style=\"text-align: right;\">\n",
       "      <th></th>\n",
       "      <th>Id</th>\n",
       "      <th>Province_State</th>\n",
       "      <th>Country_Region</th>\n",
       "      <th>Date</th>\n",
       "      <th>ConfirmedCases</th>\n",
       "      <th>Fatalities</th>\n",
       "    </tr>\n",
       "  </thead>\n",
       "  <tbody>\n",
       "    <tr>\n",
       "      <th>0</th>\n",
       "      <td>1</td>\n",
       "      <td>NaN</td>\n",
       "      <td>Afghanistan</td>\n",
       "      <td>22-01-2020</td>\n",
       "      <td>0</td>\n",
       "      <td>0</td>\n",
       "    </tr>\n",
       "    <tr>\n",
       "      <th>1</th>\n",
       "      <td>2</td>\n",
       "      <td>NaN</td>\n",
       "      <td>Afghanistan</td>\n",
       "      <td>23-01-2020</td>\n",
       "      <td>0</td>\n",
       "      <td>0</td>\n",
       "    </tr>\n",
       "    <tr>\n",
       "      <th>2</th>\n",
       "      <td>3</td>\n",
       "      <td>NaN</td>\n",
       "      <td>Afghanistan</td>\n",
       "      <td>24-01-2020</td>\n",
       "      <td>0</td>\n",
       "      <td>0</td>\n",
       "    </tr>\n",
       "    <tr>\n",
       "      <th>3</th>\n",
       "      <td>4</td>\n",
       "      <td>NaN</td>\n",
       "      <td>Afghanistan</td>\n",
       "      <td>25-01-2020</td>\n",
       "      <td>0</td>\n",
       "      <td>0</td>\n",
       "    </tr>\n",
       "    <tr>\n",
       "      <th>4</th>\n",
       "      <td>5</td>\n",
       "      <td>NaN</td>\n",
       "      <td>Afghanistan</td>\n",
       "      <td>26-01-2020</td>\n",
       "      <td>0</td>\n",
       "      <td>0</td>\n",
       "    </tr>\n",
       "    <tr>\n",
       "      <th>...</th>\n",
       "      <td>...</td>\n",
       "      <td>...</td>\n",
       "      <td>...</td>\n",
       "      <td>...</td>\n",
       "      <td>...</td>\n",
       "      <td>...</td>\n",
       "    </tr>\n",
       "    <tr>\n",
       "      <th>23557</th>\n",
       "      <td>5560</td>\n",
       "      <td></td>\n",
       "      <td>Zimbabwe</td>\n",
       "      <td>2020-04-03 00:00:00</td>\n",
       "      <td>9</td>\n",
       "      <td>1</td>\n",
       "    </tr>\n",
       "    <tr>\n",
       "      <th>23558</th>\n",
       "      <td>5561</td>\n",
       "      <td></td>\n",
       "      <td>Zimbabwe</td>\n",
       "      <td>2020-04-04 00:00:00</td>\n",
       "      <td>9</td>\n",
       "      <td>1</td>\n",
       "    </tr>\n",
       "    <tr>\n",
       "      <th>23559</th>\n",
       "      <td>5562</td>\n",
       "      <td></td>\n",
       "      <td>Zimbabwe</td>\n",
       "      <td>2020-04-05 00:00:00</td>\n",
       "      <td>9</td>\n",
       "      <td>1</td>\n",
       "    </tr>\n",
       "    <tr>\n",
       "      <th>23560</th>\n",
       "      <td>5563</td>\n",
       "      <td></td>\n",
       "      <td>Zimbabwe</td>\n",
       "      <td>2020-04-06 00:00:00</td>\n",
       "      <td>10</td>\n",
       "      <td>1</td>\n",
       "    </tr>\n",
       "    <tr>\n",
       "      <th>23561</th>\n",
       "      <td>5564</td>\n",
       "      <td></td>\n",
       "      <td>Zimbabwe</td>\n",
       "      <td>2020-04-07 00:00:00</td>\n",
       "      <td>11</td>\n",
       "      <td>2</td>\n",
       "    </tr>\n",
       "  </tbody>\n",
       "</table>\n",
       "<p>23562 rows × 6 columns</p>\n",
       "</div>"
      ],
      "text/plain": [
       "         Id Province_State Country_Region                 Date  \\\n",
       "0         1            NaN    Afghanistan           22-01-2020   \n",
       "1         2            NaN    Afghanistan           23-01-2020   \n",
       "2         3            NaN    Afghanistan           24-01-2020   \n",
       "3         4            NaN    Afghanistan           25-01-2020   \n",
       "4         5            NaN    Afghanistan           26-01-2020   \n",
       "...     ...            ...            ...                  ...   \n",
       "23557  5560                      Zimbabwe  2020-04-03 00:00:00   \n",
       "23558  5561                      Zimbabwe  2020-04-04 00:00:00   \n",
       "23559  5562                      Zimbabwe  2020-04-05 00:00:00   \n",
       "23560  5563                      Zimbabwe  2020-04-06 00:00:00   \n",
       "23561  5564                      Zimbabwe  2020-04-07 00:00:00   \n",
       "\n",
       "       ConfirmedCases  Fatalities  \n",
       "0                   0           0  \n",
       "1                   0           0  \n",
       "2                   0           0  \n",
       "3                   0           0  \n",
       "4                   0           0  \n",
       "...               ...         ...  \n",
       "23557               9           1  \n",
       "23558               9           1  \n",
       "23559               9           1  \n",
       "23560              10           1  \n",
       "23561              11           2  \n",
       "\n",
       "[23562 rows x 6 columns]"
      ]
     },
     "execution_count": 3,
     "metadata": {},
     "output_type": "execute_result"
    }
   ],
   "source": [
    "def combine_merge_dataframes():\n",
    "    \n",
    "    \"\"\"\n",
    "    Merges the three datasets twice.\\n\n",
    "    Merge1 -> Merge df1 and df3 using merge\\n\n",
    "    Example1: pd.merge(df1, df3, on=[col1, col2])\\n\n",
    "    \n",
    "    \n",
    "    Merge2 -> Merge Resulting dataframe with df2 using concatenatation\\n\n",
    "    Example2: pd.concat([merge2_df, df2], axis = 0, ignore_index = True)\n",
    "    Usage: combine_merge_dataframes()\n",
    "    \n",
    "    \"\"\"\n",
    "    df1, df2, df3 = load_data()\n",
    "    df1_df3 = pd.merge(df1, df3, on=['Id', 'Id'])\n",
    "    result_df = pd.concat([df1_df3, df2], axis = 0, ignore_index = True)\n",
    "\n",
    "    return result_df\n",
    "\n",
    "combine_merge_dataframes()"
   ]
  },
  {
   "cell_type": "markdown",
   "metadata": {},
   "source": [
    "***Pivot tables***\n",
    "\n",
    "***The following function is for pivoting data from the dataframe provided. Key and values are provided as parameters.***"
   ]
  },
  {
   "cell_type": "code",
   "execution_count": 4,
   "metadata": {},
   "outputs": [],
   "source": [
    "def pivot_table_country(dataframe, key, values):\n",
    "    \n",
    "    \"\"\"\n",
    "    Accepts dataframe, key, values as a parameter\\n\n",
    "    dataframe -> Dataframe from which pivot is to be applied,\\n\n",
    "    key -> index column\\n\n",
    "    values -> Value columns\n",
    "    Usage: pivot_table_country(data=df, key, value)\n",
    "    Return resulting pivoted dataframe\n",
    "    \n",
    "    \n",
    "    \"\"\"\n",
    "    \n",
    "    \n",
    "    df = pd.pivot_table(data=dataframe, index=key, values=values)\n",
    "    \n",
    "    \n",
    "    return df"
   ]
  },
  {
   "cell_type": "code",
   "execution_count": 5,
   "metadata": {},
   "outputs": [
    {
     "data": {
      "text/html": [
       "<div>\n",
       "<style scoped>\n",
       "    .dataframe tbody tr th:only-of-type {\n",
       "        vertical-align: middle;\n",
       "    }\n",
       "\n",
       "    .dataframe tbody tr th {\n",
       "        vertical-align: top;\n",
       "    }\n",
       "\n",
       "    .dataframe thead th {\n",
       "        text-align: right;\n",
       "    }\n",
       "</style>\n",
       "<table border=\"1\" class=\"dataframe\">\n",
       "  <thead>\n",
       "    <tr style=\"text-align: right;\">\n",
       "      <th></th>\n",
       "      <th>ConfirmedCases</th>\n",
       "    </tr>\n",
       "    <tr>\n",
       "      <th>Country_Region</th>\n",
       "      <th></th>\n",
       "    </tr>\n",
       "  </thead>\n",
       "  <tbody>\n",
       "    <tr>\n",
       "      <th>Afghanistan</th>\n",
       "      <td>44.857143</td>\n",
       "    </tr>\n",
       "    <tr>\n",
       "      <th>Albania</th>\n",
       "      <td>58.779221</td>\n",
       "    </tr>\n",
       "    <tr>\n",
       "      <th>Algeria</th>\n",
       "      <td>172.649351</td>\n",
       "    </tr>\n",
       "  </tbody>\n",
       "</table>\n",
       "</div>"
      ],
      "text/plain": [
       "                ConfirmedCases\n",
       "Country_Region                \n",
       "Afghanistan          44.857143\n",
       "Albania              58.779221\n",
       "Algeria             172.649351"
      ]
     },
     "execution_count": 5,
     "metadata": {},
     "output_type": "execute_result"
    }
   ],
   "source": [
    "df = combine_merge_dataframes()\n",
    "confirmed_cases_pivot = pivot_table_country(df, 'Country_Region', 'ConfirmedCases')\n",
    "confirmed_cases_pivot.head(3)"
   ]
  },
  {
   "cell_type": "code",
   "execution_count": 6,
   "metadata": {},
   "outputs": [
    {
     "data": {
      "text/html": [
       "<div>\n",
       "<style scoped>\n",
       "    .dataframe tbody tr th:only-of-type {\n",
       "        vertical-align: middle;\n",
       "    }\n",
       "\n",
       "    .dataframe tbody tr th {\n",
       "        vertical-align: top;\n",
       "    }\n",
       "\n",
       "    .dataframe thead th {\n",
       "        text-align: right;\n",
       "    }\n",
       "</style>\n",
       "<table border=\"1\" class=\"dataframe\">\n",
       "  <thead>\n",
       "    <tr style=\"text-align: right;\">\n",
       "      <th></th>\n",
       "      <th>Fatalities</th>\n",
       "    </tr>\n",
       "    <tr>\n",
       "      <th>Country_Region</th>\n",
       "      <th></th>\n",
       "    </tr>\n",
       "  </thead>\n",
       "  <tbody>\n",
       "    <tr>\n",
       "      <th>Afghanistan</th>\n",
       "      <td>1.090909</td>\n",
       "    </tr>\n",
       "    <tr>\n",
       "      <th>Albania</th>\n",
       "      <td>2.883117</td>\n",
       "    </tr>\n",
       "    <tr>\n",
       "      <th>Algeria</th>\n",
       "      <td>15.857143</td>\n",
       "    </tr>\n",
       "  </tbody>\n",
       "</table>\n",
       "</div>"
      ],
      "text/plain": [
       "                Fatalities\n",
       "Country_Region            \n",
       "Afghanistan       1.090909\n",
       "Albania           2.883117\n",
       "Algeria          15.857143"
      ]
     },
     "execution_count": 6,
     "metadata": {},
     "output_type": "execute_result"
    }
   ],
   "source": [
    "df = combine_merge_dataframes()\n",
    "fatalities_pivot = pivot_table_country(df, 'Country_Region', 'Fatalities')\n",
    "fatalities_pivot.head(3)"
   ]
  },
  {
   "cell_type": "markdown",
   "metadata": {},
   "source": [
    "***TRANSFORMATIONS***\n",
    "\n",
    "***In this section, we are going to perform various transformations.***\n",
    "\n",
    "***remove_nan - This function drops all rows with na and return dataframe without na***"
   ]
  },
  {
   "cell_type": "code",
   "execution_count": 7,
   "metadata": {},
   "outputs": [],
   "source": [
    "def remove_nan(dataframe):\n",
    "    \"\"\"\n",
    "    Pass dataframe as parameter\\n\n",
    "    Check if there are na values and drop rows with these values\\n\n",
    "    Return na free dataframe\n",
    "    \"\"\"\n",
    "    return dataframe.dropna()"
   ]
  },
  {
   "cell_type": "code",
   "execution_count": 8,
   "metadata": {},
   "outputs": [
    {
     "data": {
      "text/html": [
       "<div>\n",
       "<style scoped>\n",
       "    .dataframe tbody tr th:only-of-type {\n",
       "        vertical-align: middle;\n",
       "    }\n",
       "\n",
       "    .dataframe tbody tr th {\n",
       "        vertical-align: top;\n",
       "    }\n",
       "\n",
       "    .dataframe thead th {\n",
       "        text-align: right;\n",
       "    }\n",
       "</style>\n",
       "<table border=\"1\" class=\"dataframe\">\n",
       "  <thead>\n",
       "    <tr style=\"text-align: right;\">\n",
       "      <th></th>\n",
       "      <th>Id</th>\n",
       "      <th>Province_State</th>\n",
       "      <th>Country_Region</th>\n",
       "      <th>Date</th>\n",
       "      <th>ConfirmedCases</th>\n",
       "      <th>Fatalities</th>\n",
       "    </tr>\n",
       "  </thead>\n",
       "  <tbody>\n",
       "    <tr>\n",
       "      <th>616</th>\n",
       "      <td>617</td>\n",
       "      <td>Australian Capital Territory</td>\n",
       "      <td>Australia</td>\n",
       "      <td>22-01-2020</td>\n",
       "      <td>0</td>\n",
       "      <td>0</td>\n",
       "    </tr>\n",
       "    <tr>\n",
       "      <th>617</th>\n",
       "      <td>618</td>\n",
       "      <td>Australian Capital Territory</td>\n",
       "      <td>Australia</td>\n",
       "      <td>23-01-2020</td>\n",
       "      <td>0</td>\n",
       "      <td>0</td>\n",
       "    </tr>\n",
       "    <tr>\n",
       "      <th>618</th>\n",
       "      <td>619</td>\n",
       "      <td>Australian Capital Territory</td>\n",
       "      <td>Australia</td>\n",
       "      <td>24-01-2020</td>\n",
       "      <td>0</td>\n",
       "      <td>0</td>\n",
       "    </tr>\n",
       "    <tr>\n",
       "      <th>619</th>\n",
       "      <td>620</td>\n",
       "      <td>Australian Capital Territory</td>\n",
       "      <td>Australia</td>\n",
       "      <td>25-01-2020</td>\n",
       "      <td>0</td>\n",
       "      <td>0</td>\n",
       "    </tr>\n",
       "    <tr>\n",
       "      <th>620</th>\n",
       "      <td>621</td>\n",
       "      <td>Australian Capital Territory</td>\n",
       "      <td>Australia</td>\n",
       "      <td>26-01-2020</td>\n",
       "      <td>0</td>\n",
       "      <td>0</td>\n",
       "    </tr>\n",
       "  </tbody>\n",
       "</table>\n",
       "</div>"
      ],
      "text/plain": [
       "      Id                Province_State Country_Region        Date  \\\n",
       "616  617  Australian Capital Territory      Australia  22-01-2020   \n",
       "617  618  Australian Capital Territory      Australia  23-01-2020   \n",
       "618  619  Australian Capital Territory      Australia  24-01-2020   \n",
       "619  620  Australian Capital Territory      Australia  25-01-2020   \n",
       "620  621  Australian Capital Territory      Australia  26-01-2020   \n",
       "\n",
       "     ConfirmedCases  Fatalities  \n",
       "616               0           0  \n",
       "617               0           0  \n",
       "618               0           0  \n",
       "619               0           0  \n",
       "620               0           0  "
      ]
     },
     "execution_count": 8,
     "metadata": {},
     "output_type": "execute_result"
    }
   ],
   "source": [
    "df_without_na = remove_nan(df)\n",
    "df_without_na.head()"
   ]
  },
  {
   "cell_type": "markdown",
   "metadata": {},
   "source": [
    "***add_year_month_day_columns - This function adds 3 columns year, month and day form the date given as a parameter.***"
   ]
  },
  {
   "cell_type": "code",
   "execution_count": 9,
   "metadata": {},
   "outputs": [],
   "source": [
    "def add_year_month_day_columns(df, col):\n",
    "    \n",
    "    \"\"\"\n",
    "    Accepts 2 parameters: df, col1\\n\n",
    "    df -> Dataframe to be passed\\n\n",
    "    col -> Column with Date object\n",
    "    \n",
    "    \n",
    "    Return dataframe with newly added column\n",
    "    \n",
    "    \"\"\"\n",
    "    df['Year'] = pd.to_datetime(df[col]).dt.year\n",
    "    df['Month'] = pd.to_datetime(df[col]).dt.month\n",
    "    df['Day'] = pd.to_datetime(df[col]).dt.day\n",
    "    \n",
    "    \n",
    "    return df"
   ]
  },
  {
   "cell_type": "code",
   "execution_count": 10,
   "metadata": {},
   "outputs": [
    {
     "data": {
      "text/html": [
       "<div>\n",
       "<style scoped>\n",
       "    .dataframe tbody tr th:only-of-type {\n",
       "        vertical-align: middle;\n",
       "    }\n",
       "\n",
       "    .dataframe tbody tr th {\n",
       "        vertical-align: top;\n",
       "    }\n",
       "\n",
       "    .dataframe thead th {\n",
       "        text-align: right;\n",
       "    }\n",
       "</style>\n",
       "<table border=\"1\" class=\"dataframe\">\n",
       "  <thead>\n",
       "    <tr style=\"text-align: right;\">\n",
       "      <th></th>\n",
       "      <th>Id</th>\n",
       "      <th>Province_State</th>\n",
       "      <th>Country_Region</th>\n",
       "      <th>Date</th>\n",
       "      <th>ConfirmedCases</th>\n",
       "      <th>Fatalities</th>\n",
       "      <th>Year</th>\n",
       "      <th>Month</th>\n",
       "      <th>Day</th>\n",
       "    </tr>\n",
       "  </thead>\n",
       "  <tbody>\n",
       "    <tr>\n",
       "      <th>616</th>\n",
       "      <td>617</td>\n",
       "      <td>Australian Capital Territory</td>\n",
       "      <td>Australia</td>\n",
       "      <td>22-01-2020</td>\n",
       "      <td>0</td>\n",
       "      <td>0</td>\n",
       "      <td>2020</td>\n",
       "      <td>1</td>\n",
       "      <td>22</td>\n",
       "    </tr>\n",
       "    <tr>\n",
       "      <th>617</th>\n",
       "      <td>618</td>\n",
       "      <td>Australian Capital Territory</td>\n",
       "      <td>Australia</td>\n",
       "      <td>23-01-2020</td>\n",
       "      <td>0</td>\n",
       "      <td>0</td>\n",
       "      <td>2020</td>\n",
       "      <td>1</td>\n",
       "      <td>23</td>\n",
       "    </tr>\n",
       "    <tr>\n",
       "      <th>618</th>\n",
       "      <td>619</td>\n",
       "      <td>Australian Capital Territory</td>\n",
       "      <td>Australia</td>\n",
       "      <td>24-01-2020</td>\n",
       "      <td>0</td>\n",
       "      <td>0</td>\n",
       "      <td>2020</td>\n",
       "      <td>1</td>\n",
       "      <td>24</td>\n",
       "    </tr>\n",
       "    <tr>\n",
       "      <th>619</th>\n",
       "      <td>620</td>\n",
       "      <td>Australian Capital Territory</td>\n",
       "      <td>Australia</td>\n",
       "      <td>25-01-2020</td>\n",
       "      <td>0</td>\n",
       "      <td>0</td>\n",
       "      <td>2020</td>\n",
       "      <td>1</td>\n",
       "      <td>25</td>\n",
       "    </tr>\n",
       "    <tr>\n",
       "      <th>620</th>\n",
       "      <td>621</td>\n",
       "      <td>Australian Capital Territory</td>\n",
       "      <td>Australia</td>\n",
       "      <td>26-01-2020</td>\n",
       "      <td>0</td>\n",
       "      <td>0</td>\n",
       "      <td>2020</td>\n",
       "      <td>1</td>\n",
       "      <td>26</td>\n",
       "    </tr>\n",
       "  </tbody>\n",
       "</table>\n",
       "</div>"
      ],
      "text/plain": [
       "      Id                Province_State Country_Region        Date  \\\n",
       "616  617  Australian Capital Territory      Australia  22-01-2020   \n",
       "617  618  Australian Capital Territory      Australia  23-01-2020   \n",
       "618  619  Australian Capital Territory      Australia  24-01-2020   \n",
       "619  620  Australian Capital Territory      Australia  25-01-2020   \n",
       "620  621  Australian Capital Territory      Australia  26-01-2020   \n",
       "\n",
       "     ConfirmedCases  Fatalities  Year  Month  Day  \n",
       "616               0           0  2020      1   22  \n",
       "617               0           0  2020      1   23  \n",
       "618               0           0  2020      1   24  \n",
       "619               0           0  2020      1   25  \n",
       "620               0           0  2020      1   26  "
      ]
     },
     "execution_count": 10,
     "metadata": {},
     "output_type": "execute_result"
    }
   ],
   "source": [
    "df_with_more_columns = add_year_month_day_columns(df_without_na, 'Date')\n",
    "df_with_more_columns.head()"
   ]
  },
  {
   "cell_type": "code",
   "execution_count": 11,
   "metadata": {},
   "outputs": [
    {
     "data": {
      "text/plain": [
       "array([2020])"
      ]
     },
     "execution_count": 11,
     "metadata": {},
     "output_type": "execute_result"
    }
   ],
   "source": [
    "df_with_more_columns['Year'].unique()"
   ]
  },
  {
   "cell_type": "markdown",
   "metadata": {},
   "source": [
    "***The data is for only one year. Therefore we can drop Year column***"
   ]
  },
  {
   "cell_type": "code",
   "execution_count": 12,
   "metadata": {},
   "outputs": [],
   "source": [
    "def drop_colunm(df, col='Year'):\n",
    "    \n",
    "    \n",
    "    \"\"\"\n",
    "    Accepts two parameters: df, col\\n\n",
    "    df -> Dataframe with column to be dropped\\n\n",
    "    col -> Column to be dropped\\n\n",
    "    Default value of column is Year since it is our target column, this value is subject to change as shown belew\\n\n",
    "    Example and Usage: drop_column(data=df, col='Day')\n",
    "    \n",
    "    \n",
    "    \"\"\"\n",
    "    return df.drop([col], axis=1)"
   ]
  },
  {
   "cell_type": "code",
   "execution_count": 13,
   "metadata": {},
   "outputs": [
    {
     "data": {
      "text/html": [
       "<div>\n",
       "<style scoped>\n",
       "    .dataframe tbody tr th:only-of-type {\n",
       "        vertical-align: middle;\n",
       "    }\n",
       "\n",
       "    .dataframe tbody tr th {\n",
       "        vertical-align: top;\n",
       "    }\n",
       "\n",
       "    .dataframe thead th {\n",
       "        text-align: right;\n",
       "    }\n",
       "</style>\n",
       "<table border=\"1\" class=\"dataframe\">\n",
       "  <thead>\n",
       "    <tr style=\"text-align: right;\">\n",
       "      <th></th>\n",
       "      <th>Id</th>\n",
       "      <th>Province_State</th>\n",
       "      <th>Country_Region</th>\n",
       "      <th>Date</th>\n",
       "      <th>ConfirmedCases</th>\n",
       "      <th>Fatalities</th>\n",
       "      <th>Month</th>\n",
       "      <th>Day</th>\n",
       "    </tr>\n",
       "  </thead>\n",
       "  <tbody>\n",
       "    <tr>\n",
       "      <th>616</th>\n",
       "      <td>617</td>\n",
       "      <td>Australian Capital Territory</td>\n",
       "      <td>Australia</td>\n",
       "      <td>22-01-2020</td>\n",
       "      <td>0</td>\n",
       "      <td>0</td>\n",
       "      <td>1</td>\n",
       "      <td>22</td>\n",
       "    </tr>\n",
       "    <tr>\n",
       "      <th>617</th>\n",
       "      <td>618</td>\n",
       "      <td>Australian Capital Territory</td>\n",
       "      <td>Australia</td>\n",
       "      <td>23-01-2020</td>\n",
       "      <td>0</td>\n",
       "      <td>0</td>\n",
       "      <td>1</td>\n",
       "      <td>23</td>\n",
       "    </tr>\n",
       "    <tr>\n",
       "      <th>618</th>\n",
       "      <td>619</td>\n",
       "      <td>Australian Capital Territory</td>\n",
       "      <td>Australia</td>\n",
       "      <td>24-01-2020</td>\n",
       "      <td>0</td>\n",
       "      <td>0</td>\n",
       "      <td>1</td>\n",
       "      <td>24</td>\n",
       "    </tr>\n",
       "    <tr>\n",
       "      <th>619</th>\n",
       "      <td>620</td>\n",
       "      <td>Australian Capital Territory</td>\n",
       "      <td>Australia</td>\n",
       "      <td>25-01-2020</td>\n",
       "      <td>0</td>\n",
       "      <td>0</td>\n",
       "      <td>1</td>\n",
       "      <td>25</td>\n",
       "    </tr>\n",
       "    <tr>\n",
       "      <th>620</th>\n",
       "      <td>621</td>\n",
       "      <td>Australian Capital Territory</td>\n",
       "      <td>Australia</td>\n",
       "      <td>26-01-2020</td>\n",
       "      <td>0</td>\n",
       "      <td>0</td>\n",
       "      <td>1</td>\n",
       "      <td>26</td>\n",
       "    </tr>\n",
       "  </tbody>\n",
       "</table>\n",
       "</div>"
      ],
      "text/plain": [
       "      Id                Province_State Country_Region        Date  \\\n",
       "616  617  Australian Capital Territory      Australia  22-01-2020   \n",
       "617  618  Australian Capital Territory      Australia  23-01-2020   \n",
       "618  619  Australian Capital Territory      Australia  24-01-2020   \n",
       "619  620  Australian Capital Territory      Australia  25-01-2020   \n",
       "620  621  Australian Capital Territory      Australia  26-01-2020   \n",
       "\n",
       "     ConfirmedCases  Fatalities  Month  Day  \n",
       "616               0           0      1   22  \n",
       "617               0           0      1   23  \n",
       "618               0           0      1   24  \n",
       "619               0           0      1   25  \n",
       "620               0           0      1   26  "
      ]
     },
     "execution_count": 13,
     "metadata": {},
     "output_type": "execute_result"
    }
   ],
   "source": [
    "df_without_year_col = drop_colunm(df=df_with_more_columns)\n",
    "df_without_year_col.head()"
   ]
  },
  {
   "cell_type": "markdown",
   "metadata": {},
   "source": [
    "***replace_month_number_with_name - Replace the month number with month name. For instance, if value is 1, then return Jan***"
   ]
  },
  {
   "cell_type": "code",
   "execution_count": 14,
   "metadata": {},
   "outputs": [],
   "source": [
    "def replace_month_number_with_name(df):\n",
    "    \n",
    "    \n",
    "    \"\"\"\n",
    "    \n",
    "    Replaces month number with name\\n\n",
    "    Return dataframe with month names but not numbers\n",
    "    \n",
    "    \"\"\"\n",
    "    df['Month'] = df['Month'].apply(lambda month_number: calendar.month_abbr[month_number])\n",
    "    \n",
    "    return df"
   ]
  },
  {
   "cell_type": "code",
   "execution_count": 15,
   "metadata": {},
   "outputs": [
    {
     "data": {
      "text/html": [
       "<div>\n",
       "<style scoped>\n",
       "    .dataframe tbody tr th:only-of-type {\n",
       "        vertical-align: middle;\n",
       "    }\n",
       "\n",
       "    .dataframe tbody tr th {\n",
       "        vertical-align: top;\n",
       "    }\n",
       "\n",
       "    .dataframe thead th {\n",
       "        text-align: right;\n",
       "    }\n",
       "</style>\n",
       "<table border=\"1\" class=\"dataframe\">\n",
       "  <thead>\n",
       "    <tr style=\"text-align: right;\">\n",
       "      <th></th>\n",
       "      <th>Id</th>\n",
       "      <th>Province_State</th>\n",
       "      <th>Country_Region</th>\n",
       "      <th>Date</th>\n",
       "      <th>ConfirmedCases</th>\n",
       "      <th>Fatalities</th>\n",
       "      <th>Month</th>\n",
       "      <th>Day</th>\n",
       "    </tr>\n",
       "  </thead>\n",
       "  <tbody>\n",
       "    <tr>\n",
       "      <th>616</th>\n",
       "      <td>617</td>\n",
       "      <td>Australian Capital Territory</td>\n",
       "      <td>Australia</td>\n",
       "      <td>22-01-2020</td>\n",
       "      <td>0</td>\n",
       "      <td>0</td>\n",
       "      <td>Jan</td>\n",
       "      <td>22</td>\n",
       "    </tr>\n",
       "    <tr>\n",
       "      <th>617</th>\n",
       "      <td>618</td>\n",
       "      <td>Australian Capital Territory</td>\n",
       "      <td>Australia</td>\n",
       "      <td>23-01-2020</td>\n",
       "      <td>0</td>\n",
       "      <td>0</td>\n",
       "      <td>Jan</td>\n",
       "      <td>23</td>\n",
       "    </tr>\n",
       "    <tr>\n",
       "      <th>618</th>\n",
       "      <td>619</td>\n",
       "      <td>Australian Capital Territory</td>\n",
       "      <td>Australia</td>\n",
       "      <td>24-01-2020</td>\n",
       "      <td>0</td>\n",
       "      <td>0</td>\n",
       "      <td>Jan</td>\n",
       "      <td>24</td>\n",
       "    </tr>\n",
       "    <tr>\n",
       "      <th>619</th>\n",
       "      <td>620</td>\n",
       "      <td>Australian Capital Territory</td>\n",
       "      <td>Australia</td>\n",
       "      <td>25-01-2020</td>\n",
       "      <td>0</td>\n",
       "      <td>0</td>\n",
       "      <td>Jan</td>\n",
       "      <td>25</td>\n",
       "    </tr>\n",
       "    <tr>\n",
       "      <th>620</th>\n",
       "      <td>621</td>\n",
       "      <td>Australian Capital Territory</td>\n",
       "      <td>Australia</td>\n",
       "      <td>26-01-2020</td>\n",
       "      <td>0</td>\n",
       "      <td>0</td>\n",
       "      <td>Jan</td>\n",
       "      <td>26</td>\n",
       "    </tr>\n",
       "    <tr>\n",
       "      <th>...</th>\n",
       "      <td>...</td>\n",
       "      <td>...</td>\n",
       "      <td>...</td>\n",
       "      <td>...</td>\n",
       "      <td>...</td>\n",
       "      <td>...</td>\n",
       "      <td>...</td>\n",
       "      <td>...</td>\n",
       "    </tr>\n",
       "    <tr>\n",
       "      <th>23557</th>\n",
       "      <td>5560</td>\n",
       "      <td></td>\n",
       "      <td>Zimbabwe</td>\n",
       "      <td>2020-04-03 00:00:00</td>\n",
       "      <td>9</td>\n",
       "      <td>1</td>\n",
       "      <td>Apr</td>\n",
       "      <td>3</td>\n",
       "    </tr>\n",
       "    <tr>\n",
       "      <th>23558</th>\n",
       "      <td>5561</td>\n",
       "      <td></td>\n",
       "      <td>Zimbabwe</td>\n",
       "      <td>2020-04-04 00:00:00</td>\n",
       "      <td>9</td>\n",
       "      <td>1</td>\n",
       "      <td>Apr</td>\n",
       "      <td>4</td>\n",
       "    </tr>\n",
       "    <tr>\n",
       "      <th>23559</th>\n",
       "      <td>5562</td>\n",
       "      <td></td>\n",
       "      <td>Zimbabwe</td>\n",
       "      <td>2020-04-05 00:00:00</td>\n",
       "      <td>9</td>\n",
       "      <td>1</td>\n",
       "      <td>Apr</td>\n",
       "      <td>5</td>\n",
       "    </tr>\n",
       "    <tr>\n",
       "      <th>23560</th>\n",
       "      <td>5563</td>\n",
       "      <td></td>\n",
       "      <td>Zimbabwe</td>\n",
       "      <td>2020-04-06 00:00:00</td>\n",
       "      <td>10</td>\n",
       "      <td>1</td>\n",
       "      <td>Apr</td>\n",
       "      <td>6</td>\n",
       "    </tr>\n",
       "    <tr>\n",
       "      <th>23561</th>\n",
       "      <td>5564</td>\n",
       "      <td></td>\n",
       "      <td>Zimbabwe</td>\n",
       "      <td>2020-04-07 00:00:00</td>\n",
       "      <td>11</td>\n",
       "      <td>2</td>\n",
       "      <td>Apr</td>\n",
       "      <td>7</td>\n",
       "    </tr>\n",
       "  </tbody>\n",
       "</table>\n",
       "<p>10857 rows × 8 columns</p>\n",
       "</div>"
      ],
      "text/plain": [
       "         Id                Province_State Country_Region                 Date  \\\n",
       "616     617  Australian Capital Territory      Australia           22-01-2020   \n",
       "617     618  Australian Capital Territory      Australia           23-01-2020   \n",
       "618     619  Australian Capital Territory      Australia           24-01-2020   \n",
       "619     620  Australian Capital Territory      Australia           25-01-2020   \n",
       "620     621  Australian Capital Territory      Australia           26-01-2020   \n",
       "...     ...                           ...            ...                  ...   \n",
       "23557  5560                                     Zimbabwe  2020-04-03 00:00:00   \n",
       "23558  5561                                     Zimbabwe  2020-04-04 00:00:00   \n",
       "23559  5562                                     Zimbabwe  2020-04-05 00:00:00   \n",
       "23560  5563                                     Zimbabwe  2020-04-06 00:00:00   \n",
       "23561  5564                                     Zimbabwe  2020-04-07 00:00:00   \n",
       "\n",
       "       ConfirmedCases  Fatalities Month  Day  \n",
       "616                 0           0   Jan   22  \n",
       "617                 0           0   Jan   23  \n",
       "618                 0           0   Jan   24  \n",
       "619                 0           0   Jan   25  \n",
       "620                 0           0   Jan   26  \n",
       "...               ...         ...   ...  ...  \n",
       "23557               9           1   Apr    3  \n",
       "23558               9           1   Apr    4  \n",
       "23559               9           1   Apr    5  \n",
       "23560              10           1   Apr    6  \n",
       "23561              11           2   Apr    7  \n",
       "\n",
       "[10857 rows x 8 columns]"
      ]
     },
     "execution_count": 15,
     "metadata": {},
     "output_type": "execute_result"
    }
   ],
   "source": [
    "replace_month_number_with_name(df_without_year_col)"
   ]
  },
  {
   "cell_type": "markdown",
   "metadata": {},
   "source": [
    "***rename_columns_name - This function renames the column with the name provided as new name.***\n",
    "\n",
    "***For instance, if old name is 'Old_Year' and new name is 'Year', then the column name changes to Year.***"
   ]
  },
  {
   "cell_type": "code",
   "execution_count": 16,
   "metadata": {},
   "outputs": [],
   "source": [
    "def rename_columns_name(df, old_name, new_name):\n",
    "    \"\"\"\n",
    "    Renames column\\n\n",
    "    Accepts 3 parameters; df, old_name, new_name\\n\n",
    "    df -> dataframe with column name to be changed\\n\n",
    "    old_name -> current column name\\n\n",
    "    new_name -> new name of the column\\n\n",
    "    Return dataframe with new column name\n",
    "    \"\"\"\n",
    "    df.rename(columns = {old_name:new_name}, inplace = True)\n",
    "    return df"
   ]
  },
  {
   "cell_type": "code",
   "execution_count": 17,
   "metadata": {},
   "outputs": [
    {
     "data": {
      "text/html": [
       "<div>\n",
       "<style scoped>\n",
       "    .dataframe tbody tr th:only-of-type {\n",
       "        vertical-align: middle;\n",
       "    }\n",
       "\n",
       "    .dataframe tbody tr th {\n",
       "        vertical-align: top;\n",
       "    }\n",
       "\n",
       "    .dataframe thead th {\n",
       "        text-align: right;\n",
       "    }\n",
       "</style>\n",
       "<table border=\"1\" class=\"dataframe\">\n",
       "  <thead>\n",
       "    <tr style=\"text-align: right;\">\n",
       "      <th></th>\n",
       "      <th>Id</th>\n",
       "      <th>Province_State</th>\n",
       "      <th>Country_Region</th>\n",
       "      <th>Date</th>\n",
       "      <th>Confirmed_Cases</th>\n",
       "      <th>Fatalities</th>\n",
       "      <th>Month</th>\n",
       "      <th>Day</th>\n",
       "    </tr>\n",
       "  </thead>\n",
       "  <tbody>\n",
       "    <tr>\n",
       "      <th>616</th>\n",
       "      <td>617</td>\n",
       "      <td>Australian Capital Territory</td>\n",
       "      <td>Australia</td>\n",
       "      <td>22-01-2020</td>\n",
       "      <td>0</td>\n",
       "      <td>0</td>\n",
       "      <td>Jan</td>\n",
       "      <td>22</td>\n",
       "    </tr>\n",
       "    <tr>\n",
       "      <th>617</th>\n",
       "      <td>618</td>\n",
       "      <td>Australian Capital Territory</td>\n",
       "      <td>Australia</td>\n",
       "      <td>23-01-2020</td>\n",
       "      <td>0</td>\n",
       "      <td>0</td>\n",
       "      <td>Jan</td>\n",
       "      <td>23</td>\n",
       "    </tr>\n",
       "    <tr>\n",
       "      <th>618</th>\n",
       "      <td>619</td>\n",
       "      <td>Australian Capital Territory</td>\n",
       "      <td>Australia</td>\n",
       "      <td>24-01-2020</td>\n",
       "      <td>0</td>\n",
       "      <td>0</td>\n",
       "      <td>Jan</td>\n",
       "      <td>24</td>\n",
       "    </tr>\n",
       "    <tr>\n",
       "      <th>619</th>\n",
       "      <td>620</td>\n",
       "      <td>Australian Capital Territory</td>\n",
       "      <td>Australia</td>\n",
       "      <td>25-01-2020</td>\n",
       "      <td>0</td>\n",
       "      <td>0</td>\n",
       "      <td>Jan</td>\n",
       "      <td>25</td>\n",
       "    </tr>\n",
       "    <tr>\n",
       "      <th>620</th>\n",
       "      <td>621</td>\n",
       "      <td>Australian Capital Territory</td>\n",
       "      <td>Australia</td>\n",
       "      <td>26-01-2020</td>\n",
       "      <td>0</td>\n",
       "      <td>0</td>\n",
       "      <td>Jan</td>\n",
       "      <td>26</td>\n",
       "    </tr>\n",
       "    <tr>\n",
       "      <th>...</th>\n",
       "      <td>...</td>\n",
       "      <td>...</td>\n",
       "      <td>...</td>\n",
       "      <td>...</td>\n",
       "      <td>...</td>\n",
       "      <td>...</td>\n",
       "      <td>...</td>\n",
       "      <td>...</td>\n",
       "    </tr>\n",
       "    <tr>\n",
       "      <th>23557</th>\n",
       "      <td>5560</td>\n",
       "      <td></td>\n",
       "      <td>Zimbabwe</td>\n",
       "      <td>2020-04-03 00:00:00</td>\n",
       "      <td>9</td>\n",
       "      <td>1</td>\n",
       "      <td>Apr</td>\n",
       "      <td>3</td>\n",
       "    </tr>\n",
       "    <tr>\n",
       "      <th>23558</th>\n",
       "      <td>5561</td>\n",
       "      <td></td>\n",
       "      <td>Zimbabwe</td>\n",
       "      <td>2020-04-04 00:00:00</td>\n",
       "      <td>9</td>\n",
       "      <td>1</td>\n",
       "      <td>Apr</td>\n",
       "      <td>4</td>\n",
       "    </tr>\n",
       "    <tr>\n",
       "      <th>23559</th>\n",
       "      <td>5562</td>\n",
       "      <td></td>\n",
       "      <td>Zimbabwe</td>\n",
       "      <td>2020-04-05 00:00:00</td>\n",
       "      <td>9</td>\n",
       "      <td>1</td>\n",
       "      <td>Apr</td>\n",
       "      <td>5</td>\n",
       "    </tr>\n",
       "    <tr>\n",
       "      <th>23560</th>\n",
       "      <td>5563</td>\n",
       "      <td></td>\n",
       "      <td>Zimbabwe</td>\n",
       "      <td>2020-04-06 00:00:00</td>\n",
       "      <td>10</td>\n",
       "      <td>1</td>\n",
       "      <td>Apr</td>\n",
       "      <td>6</td>\n",
       "    </tr>\n",
       "    <tr>\n",
       "      <th>23561</th>\n",
       "      <td>5564</td>\n",
       "      <td></td>\n",
       "      <td>Zimbabwe</td>\n",
       "      <td>2020-04-07 00:00:00</td>\n",
       "      <td>11</td>\n",
       "      <td>2</td>\n",
       "      <td>Apr</td>\n",
       "      <td>7</td>\n",
       "    </tr>\n",
       "  </tbody>\n",
       "</table>\n",
       "<p>10857 rows × 8 columns</p>\n",
       "</div>"
      ],
      "text/plain": [
       "         Id                Province_State Country_Region                 Date  \\\n",
       "616     617  Australian Capital Territory      Australia           22-01-2020   \n",
       "617     618  Australian Capital Territory      Australia           23-01-2020   \n",
       "618     619  Australian Capital Territory      Australia           24-01-2020   \n",
       "619     620  Australian Capital Territory      Australia           25-01-2020   \n",
       "620     621  Australian Capital Territory      Australia           26-01-2020   \n",
       "...     ...                           ...            ...                  ...   \n",
       "23557  5560                                     Zimbabwe  2020-04-03 00:00:00   \n",
       "23558  5561                                     Zimbabwe  2020-04-04 00:00:00   \n",
       "23559  5562                                     Zimbabwe  2020-04-05 00:00:00   \n",
       "23560  5563                                     Zimbabwe  2020-04-06 00:00:00   \n",
       "23561  5564                                     Zimbabwe  2020-04-07 00:00:00   \n",
       "\n",
       "       Confirmed_Cases  Fatalities Month  Day  \n",
       "616                  0           0   Jan   22  \n",
       "617                  0           0   Jan   23  \n",
       "618                  0           0   Jan   24  \n",
       "619                  0           0   Jan   25  \n",
       "620                  0           0   Jan   26  \n",
       "...                ...         ...   ...  ...  \n",
       "23557                9           1   Apr    3  \n",
       "23558                9           1   Apr    4  \n",
       "23559                9           1   Apr    5  \n",
       "23560               10           1   Apr    6  \n",
       "23561               11           2   Apr    7  \n",
       "\n",
       "[10857 rows x 8 columns]"
      ]
     },
     "execution_count": 17,
     "metadata": {},
     "output_type": "execute_result"
    }
   ],
   "source": [
    "rename_columns_name(df_without_year_col, 'ConfirmedCases', 'Confirmed_Cases')"
   ]
  },
  {
   "cell_type": "markdown",
   "metadata": {},
   "source": [
    "***DATA VISUALIZATION***\n",
    "\n",
    "Visualizing the data and identifing patterns.\n",
    "\n",
    "bar_plot_visualization - the function returns bar plot with stardard parameters, the dataframe, x and y are passed as parameters.\n",
    "For example; If the dataframe has year, numbers as columns then then bar_plot_visualization(data=dataframe, x='year', y='numbers')"
   ]
  },
  {
   "cell_type": "code",
   "execution_count": 18,
   "metadata": {},
   "outputs": [],
   "source": [
    "def bar_plot_visualization(df, colX, colY):\n",
    "    \n",
    "    \"\"\"\n",
    "    Passes dataframe, colX, colY as a parameters\\n\n",
    "    colX -> Column x data\\n\n",
    "    colY -> Column y data\\n\n",
    "    \n",
    "    Return bar plot as per passed parameters\n",
    "    \n",
    "    \n",
    "    \"\"\"\n",
    "    \n",
    "    return sns.barplot(data=df, x=colX, y=colY)"
   ]
  },
  {
   "cell_type": "markdown",
   "metadata": {},
   "source": [
    "***Visualizing the data for confirmed and fatalities using bar plot***"
   ]
  },
  {
   "cell_type": "code",
   "execution_count": 19,
   "metadata": {},
   "outputs": [
    {
     "data": {
      "text/plain": [
       "Index(['ConfirmedCases'], dtype='object')"
      ]
     },
     "execution_count": 19,
     "metadata": {},
     "output_type": "execute_result"
    }
   ],
   "source": [
    "confirmed_cases_pivot.columns"
   ]
  },
  {
   "cell_type": "code",
   "execution_count": 20,
   "metadata": {},
   "outputs": [
    {
     "data": {
      "text/plain": [
       "<matplotlib.axes._subplots.AxesSubplot at 0x7fac763220b8>"
      ]
     },
     "execution_count": 20,
     "metadata": {},
     "output_type": "execute_result"
    },
    {
     "data": {
      "image/png": "[encoded data removed]",
      "text/plain": [
       "<Figure size 432x288 with 1 Axes>"
      ]
     },
     "metadata": {
      "needs_background": "light"
     },
     "output_type": "display_data"
    }
   ],
   "source": [
    "bar_plot_visualization(df_without_year_col, 'Confirmed_Cases', 'Country_Region')"
   ]
  },
  {
   "cell_type": "code",
   "execution_count": 21,
   "metadata": {},
   "outputs": [
    {
     "data": {
      "text/plain": [
       "<matplotlib.axes._subplots.AxesSubplot at 0x7fac766a18d0>"
      ]
     },
     "execution_count": 21,
     "metadata": {},
     "output_type": "execute_result"
    },
    {
     "data": {
      "image/png": "[encoded data removed]",
      "text/plain": [
       "<Figure size 432x288 with 1 Axes>"
      ]
     },
     "metadata": {
      "needs_background": "light"
     },
     "output_type": "display_data"
    }
   ],
   "source": [
    "bar_plot_visualization(df_without_year_col, 'Fatalities', 'Country_Region')"
   ]
  },
  {
   "cell_type": "code",
   "execution_count": 22,
   "metadata": {},
   "outputs": [
    {
     "data": {
      "text/plain": [
       "<matplotlib.axes._subplots.AxesSubplot at 0x7fac761cd470>"
      ]
     },
     "execution_count": 22,
     "metadata": {},
     "output_type": "execute_result"
    },
    {
     "data": {
      "image/png": "[encoded data removed]",
      "text/plain": [
       "<Figure size 432x288 with 1 Axes>"
      ]
     },
     "metadata": {
      "needs_background": "light"
     },
     "output_type": "display_data"
    }
   ],
   "source": [
    "bar_plot_visualization(df_without_year_col, 'Month', 'Confirmed_Cases')"
   ]
  },
  {
   "cell_type": "code",
   "execution_count": 23,
   "metadata": {},
   "outputs": [
    {
     "data": {
      "text/plain": [
       "<matplotlib.axes._subplots.AxesSubplot at 0x7fac75f84898>"
      ]
     },
     "execution_count": 23,
     "metadata": {},
     "output_type": "execute_result"
    },
    {
     "data": {
      "image/png": "[encoded data removed]",
      "text/plain": [
       "<Figure size 432x288 with 1 Axes>"
      ]
     },
     "metadata": {
      "needs_background": "light"
     },
     "output_type": "display_data"
    }
   ],
   "source": [
    "bar_plot_visualization(df_without_year_col, 'Month', 'Fatalities')"
   ]
  },
  {
   "cell_type": "markdown",
   "metadata": {},
   "source": [
    "***SCATTERED PLOT***\n",
    "\n",
    "visualize_with_scatter_plot - function displays the scattered plot with dataframe, x, and y as parameters."
   ]
  },
  {
   "cell_type": "code",
   "execution_count": 24,
   "metadata": {},
   "outputs": [],
   "source": [
    "def visualize_with_scatter_plot(df, colX, colY):\n",
    "    \"\"\"\n",
    "    Passes dataframe, colX, colY as a parameters\\n\n",
    "    colX -> Column x data\\n\n",
    "    colY -> Column y data\\n\n",
    "    Return scatter plot as per passed parameters\n",
    "    \"\"\"\n",
    "    return sns.scatterplot(data=df, x=colX, y=colY)"
   ]
  },
  {
   "cell_type": "markdown",
   "metadata": {},
   "source": [
    "***Visualizing the confirmed cases and fatilities with scattered plot***"
   ]
  },
  {
   "cell_type": "code",
   "execution_count": 25,
   "metadata": {},
   "outputs": [
    {
     "data": {
      "text/plain": [
       "<matplotlib.axes._subplots.AxesSubplot at 0x7fac75eafba8>"
      ]
     },
     "execution_count": 25,
     "metadata": {},
     "output_type": "execute_result"
    },
    {
     "data": {
      "image/png": "[encoded data removed]",
      "text/plain": [
       "<Figure size 432x288 with 1 Axes>"
      ]
     },
     "metadata": {
      "needs_background": "light"
     },
     "output_type": "display_data"
    }
   ],
   "source": [
    "visualize_with_scatter_plot(df_without_year_col, 'Confirmed_Cases', 'Fatalities')"
   ]
  },
  {
   "cell_type": "markdown",
   "metadata": {},
   "source": [
    "***COUNT PLOT***\n",
    "\n",
    "visualize_with_count_plot - This function can accepts dataframe and one parameter whose values will be counted."
   ]
  },
  {
   "cell_type": "code",
   "execution_count": 26,
   "metadata": {},
   "outputs": [],
   "source": [
    "def visualize_with_count_plot(df, colX):\n",
    "    \"\"\"\n",
    "    Passes dataframe, colY as a parameters\\n\n",
    "    colX -> Column x data\\n\n",
    "    Return count plot as per passed parameters\n",
    "    \"\"\"\n",
    "    return sns.countplot(data=df, x=colX)"
   ]
  },
  {
   "cell_type": "markdown",
   "metadata": {},
   "source": [
    "***Visualizing the data with count plot***"
   ]
  },
  {
   "cell_type": "code",
   "execution_count": 27,
   "metadata": {},
   "outputs": [
    {
     "data": {
      "text/plain": [
       "<matplotlib.axes._subplots.AxesSubplot at 0x7fac75e8b630>"
      ]
     },
     "execution_count": 27,
     "metadata": {},
     "output_type": "execute_result"
    },
    {
     "data": {
      "image/png": "[encoded data removed]",
      "text/plain": [
       "<Figure size 432x288 with 1 Axes>"
      ]
     },
     "metadata": {
      "needs_background": "light"
     },
     "output_type": "display_data"
    }
   ],
   "source": [
    "visualize_with_count_plot(df_without_year_col, 'Month')"
   ]
  },
  {
   "cell_type": "markdown",
   "metadata": {},
   "source": [
    "***CONCLUSION***\n",
    "\n",
    "***From visualization, we can conlude that:***\n",
    "\n",
    "\n",
    "\n",
    "China registered high number of confirmed cases and fatalities, followed by both US and United Kingdom.\n",
    "\n",
    "\n",
    "Total number of both cases increased exponentially from January to April.\n",
    "\n",
    "\n",
    "Fatalities increased with increase in covid19 infections."
   ]
  },
  {
   "cell_type": "code",
   "execution_count": null,
   "metadata": {},
   "outputs": [],
   "source": []
  }
 ],
 "metadata": {
  "kernelspec": {
   "display_name": "Python 3",
   "language": "python",
   "name": "python3"
  },
  "language_info": {
   "codemirror_mode": {
    "name": "ipython",
    "version": 3
   },
   "file_extension": ".py",
   "mimetype": "text/x-python",
   "name": "python",
   "nbconvert_exporter": "python",
   "pygments_lexer": "ipython3",
   "version": "3.6.7"
  }
 },
 "nbformat": 4,
 "nbformat_minor": 4
}
